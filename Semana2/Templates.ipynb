{
  "nbformat": 4,
  "nbformat_minor": 0,
  "metadata": {
    "colab": {
      "name": "Semana 2 - Templates",
      "provenance": [],
      "collapsed_sections": [],
      "authorship_tag": "ABX9TyNaCfPfFATjlLSi7LRruIZR"
    },
    "kernelspec": {
      "name": "python3",
      "display_name": "Python 3"
    },
    "language_info": {
      "name": "python"
    }
  },
  "cells": [
    {
      "cell_type": "markdown",
      "source": [
        "#Ejemplo 1"
      ],
      "metadata": {
        "id": "sJPx0E7E6CcV"
      }
    },
    {
      "cell_type": "code",
      "execution_count": null,
      "metadata": {
        "colab": {
          "base_uri": "https://localhost:8080/"
        },
        "id": "nUYpzh3M5f_Q",
        "outputId": "dfb1d221-1d71-45ef-c755-78dd8e71e8a4"
      },
      "outputs": [
        {
          "output_type": "stream",
          "name": "stdout",
          "text": [
            "Overwriting ejemplo1.cpp\n"
          ]
        }
      ],
      "source": [
        "%%writefile ejemplo1.cpp\n",
        "#include<iostream>\n",
        "\n",
        "using std::cout;\n",
        "\n",
        "int main()\n",
        "{\n",
        "    cout<<\"Probando desde google collab\";\n",
        "    return 0;\n",
        "}"
      ]
    },
    {
      "cell_type": "code",
      "source": [
        "!g++ ejemplo1.cpp"
      ],
      "metadata": {
        "id": "ZaK3sfB66PzZ"
      },
      "execution_count": null,
      "outputs": []
    },
    {
      "cell_type": "code",
      "source": [
        "!./a.out"
      ],
      "metadata": {
        "colab": {
          "base_uri": "https://localhost:8080/"
        },
        "id": "lj-Jqh9K7tjg",
        "outputId": "369408ac-3c1b-495f-ad55-d85e92a212e0"
      },
      "execution_count": null,
      "outputs": [
        {
          "output_type": "stream",
          "name": "stdout",
          "text": [
            "Probando desde google collab"
          ]
        }
      ]
    },
    {
      "cell_type": "markdown",
      "source": [
        "#Ejemplo 2"
      ],
      "metadata": {
        "id": "xBN6q_zI8MiV"
      }
    },
    {
      "cell_type": "code",
      "source": [
        "%%writefile Biblioteca.hpp\n",
        "\n",
        "//Definicion de bibliotecas, clases y funciones\n",
        "#include <iostream>\n",
        "#include <cstdlib>// srand, rand\n",
        "#include <ctime>//time\n",
        "\n",
        "using std::cout;\n",
        "using std::cin;\n",
        "//definición de la funcion\n",
        "void generar(short* a, size_t n);\n",
        "void listar(short*, size_t);\n",
        "void mayor(short*, size_t);\n",
        "void ordenar(short*, size_t);\n",
        "void mayorPromedio(short* a, size_t n);"
      ],
      "metadata": {
        "colab": {
          "base_uri": "https://localhost:8080/"
        },
        "id": "KSbi4Ysb7vC8",
        "outputId": "27dc8406-5d21-47cb-e826-586d121a2e14"
      },
      "execution_count": null,
      "outputs": [
        {
          "output_type": "stream",
          "name": "stdout",
          "text": [
            "Writing Biblioteca.hpp\n"
          ]
        }
      ]
    },
    {
      "cell_type": "code",
      "source": [
        "%%writefile Biblioteca.cpp\n",
        "\n",
        "//implementacion de las bibliotecas, clases  y funciones\n",
        "#include \"Ejemplo2.hpp\"\n",
        "\n",
        "void generar(short* a, size_t n){\n",
        "  for(size_t i=0;i<n;++i){\n",
        "      a[i]=rand()%101+100;//rango de 100 a 200    \n",
        "  }  \n",
        "}\n",
        "\n",
        "void listar(short* a, size_t n){\n",
        "for(size_t i=0;i<n;++i){\n",
        "      cout<<i<<\"-> \"<<a[i]<<\"\\n\";\n",
        "  }  \n",
        "}\n",
        "\n",
        "void mayor(short* a, size_t n){\n",
        "  short _mayor=a[0], _pos=-1;\n",
        "  \n",
        "for(size_t i=1;i<n;++i){\n",
        "  if(a[i]>_mayor){\n",
        "      _mayor=a[i];//actualizo el mayor\n",
        "      _pos=i;\n",
        "    }\n",
        "  }\n",
        "  cout<<\"El mayor valor es\"<<_mayor<<\" y se encuentra en la posicion\"<<_pos<<\"\\n\";\n",
        "}\n",
        "void ordenar(short* a, size_t n){\n",
        "  for(int i=0;i<n-1;++i){\n",
        "  for(int j=i+1;j<n;++j){\n",
        "   if(a[i]>a[j]){\n",
        "    short aux=a[i];\n",
        "    a[i]=a[j];\n",
        "    a[j]=aux;\n",
        "  }\n",
        "}\n",
        "    }\n",
        "}\n",
        "void mayorPromedio(short* a, size_t n){\n",
        "  float prom=0.0f;    \n",
        "  //obteniendo el promedio\n",
        "  for(int i=0;i<n-1;++i)\n",
        "        prom+=a[i];\n",
        "  prom/=n;//prom=prom/n   \n",
        "  //listar mayor al promedio\n",
        "  for(int i=0;i<n-1;++i)\n",
        "        if(a[i]>prom)cout<<i<<\"->\"<<a[i]<<\"\\n\";\n",
        "  }"
      ],
      "metadata": {
        "colab": {
          "base_uri": "https://localhost:8080/"
        },
        "id": "t3Aqs3DWBTxV",
        "outputId": "0345a321-d3b3-4362-b244-f71fb8ca27c3"
      },
      "execution_count": null,
      "outputs": [
        {
          "output_type": "stream",
          "name": "stdout",
          "text": [
            "Writing Biblioteca.cpp\n"
          ]
        }
      ]
    },
    {
      "cell_type": "code",
      "source": [
        "%%writefile Ejemplo.cpp\n",
        "\n",
        "#include \"Ejemplo2.hpp\"\n",
        "int main() {\n",
        "short* arreglo=new short[100];  \n",
        "srand(time(NULL));//inicializacion de la semilla\n",
        "generar(arreglo,100);\n",
        "listar(arreglo, 100);\n",
        "//mayor(arreglo, 100);  \n",
        "ordenar(arreglo, 100);\n",
        "cout<<\"-------------\\n\";\n",
        "//listar(arreglo, 100);\n",
        "  mayorPromedio(arreglo, 100);\n",
        "}"
      ],
      "metadata": {
        "colab": {
          "base_uri": "https://localhost:8080/"
        },
        "id": "-ye2UUkhBcGQ",
        "outputId": "e7e0cb43-c36b-4a14-8c1b-8df6a7d47106"
      },
      "execution_count": null,
      "outputs": [
        {
          "output_type": "stream",
          "name": "stdout",
          "text": [
            "Overwriting Ejemplo.cpp\n"
          ]
        }
      ]
    },
    {
      "cell_type": "code",
      "source": [
        "!g++ -std=c++1y Biblioteca.cpp Ejemplo.cpp && ./a.out"
      ],
      "metadata": {
        "colab": {
          "base_uri": "https://localhost:8080/"
        },
        "id": "HERT8opQBk0P",
        "outputId": "7c678c43-01ca-4e59-ba40-a7558292279c"
      },
      "execution_count": null,
      "outputs": [
        {
          "output_type": "stream",
          "name": "stdout",
          "text": [
            "0-> 175\n",
            "1-> 156\n",
            "2-> 154\n",
            "3-> 160\n",
            "4-> 114\n",
            "5-> 190\n",
            "6-> 103\n",
            "7-> 181\n",
            "8-> 182\n",
            "9-> 198\n",
            "10-> 190\n",
            "11-> 132\n",
            "12-> 138\n",
            "13-> 167\n",
            "14-> 140\n",
            "15-> 170\n",
            "16-> 126\n",
            "17-> 135\n",
            "18-> 175\n",
            "19-> 140\n",
            "20-> 122\n",
            "21-> 184\n",
            "22-> 102\n",
            "23-> 155\n",
            "24-> 161\n",
            "25-> 198\n",
            "26-> 103\n",
            "27-> 111\n",
            "28-> 150\n",
            "29-> 161\n",
            "30-> 111\n",
            "31-> 192\n",
            "32-> 116\n",
            "33-> 131\n",
            "34-> 151\n",
            "35-> 130\n",
            "36-> 187\n",
            "37-> 120\n",
            "38-> 178\n",
            "39-> 168\n",
            "40-> 117\n",
            "41-> 133\n",
            "42-> 166\n",
            "43-> 155\n",
            "44-> 167\n",
            "45-> 105\n",
            "46-> 191\n",
            "47-> 193\n",
            "48-> 106\n",
            "49-> 166\n",
            "50-> 199\n",
            "51-> 196\n",
            "52-> 115\n",
            "53-> 100\n",
            "54-> 116\n",
            "55-> 176\n",
            "56-> 164\n",
            "57-> 119\n",
            "58-> 153\n",
            "59-> 114\n",
            "60-> 180\n",
            "61-> 130\n",
            "62-> 105\n",
            "63-> 162\n",
            "64-> 161\n",
            "65-> 122\n",
            "66-> 159\n",
            "67-> 113\n",
            "68-> 142\n",
            "69-> 102\n",
            "70-> 182\n",
            "71-> 159\n",
            "72-> 101\n",
            "73-> 113\n",
            "74-> 180\n",
            "75-> 168\n",
            "76-> 186\n",
            "77-> 171\n",
            "78-> 126\n",
            "79-> 158\n",
            "80-> 102\n",
            "81-> 124\n",
            "82-> 119\n",
            "83-> 117\n",
            "84-> 191\n",
            "85-> 135\n",
            "86-> 159\n",
            "87-> 155\n",
            "88-> 155\n",
            "89-> 111\n",
            "90-> 135\n",
            "91-> 100\n",
            "92-> 142\n",
            "93-> 106\n",
            "94-> 129\n",
            "95-> 169\n",
            "96-> 195\n",
            "97-> 154\n",
            "98-> 183\n",
            "99-> 136\n",
            "-------------\n",
            "47->150\n",
            "48->151\n",
            "49->153\n",
            "50->154\n",
            "51->154\n",
            "52->155\n",
            "53->155\n",
            "54->155\n",
            "55->155\n",
            "56->156\n",
            "57->158\n",
            "58->159\n",
            "59->159\n",
            "60->159\n",
            "61->160\n",
            "62->161\n",
            "63->161\n",
            "64->161\n",
            "65->162\n",
            "66->164\n",
            "67->166\n",
            "68->166\n",
            "69->167\n",
            "70->167\n",
            "71->168\n",
            "72->168\n",
            "73->169\n",
            "74->170\n",
            "75->171\n",
            "76->175\n",
            "77->175\n",
            "78->176\n",
            "79->178\n",
            "80->180\n",
            "81->180\n",
            "82->181\n",
            "83->182\n",
            "84->182\n",
            "85->183\n",
            "86->184\n",
            "87->186\n",
            "88->187\n",
            "89->190\n",
            "90->190\n",
            "91->191\n",
            "92->191\n",
            "93->192\n",
            "94->193\n",
            "95->195\n",
            "96->196\n",
            "97->198\n",
            "98->198\n"
          ]
        }
      ]
    },
    {
      "cell_type": "markdown",
      "source": [
        "#Ejemplo 3 - Con Templates"
      ],
      "metadata": {
        "id": "p6JzirrnLSjS"
      }
    },
    {
      "cell_type": "code",
      "source": [
        "%%writefile Biblioteca.hpp\n",
        "\n",
        "#include<iostream>\n",
        "\n",
        "using std::cout;\n",
        "using std::cin;\n",
        "\n",
        "template <typename Generico> //definir la funcion como template\n",
        "class Arreglo\n",
        "{\n",
        "    Generico* a;\n",
        "    size_t n;\n",
        " \n",
        " public:\n",
        "    Arreglo(){a=new Generico[10];n=0;}\n",
        "    Arreglo(Generico* _a, size_t _n){a=_a;n=_n;}\n",
        " \n",
        "    void insertar(Generico g)\n",
        "    {\n",
        "        if(n<10)\n",
        "        {\n",
        "            a[n++]=g;\n",
        "        }\n",
        "    }\n",
        " \n",
        "    void listar()\n",
        "    {\n",
        "        for(size_t i=0; i<n; i++)\n",
        "        {\n",
        "            cout<<i<<\"->\"<<a[i]<<\"\\n\";\n",
        "        }\n",
        "    }\n",
        "    \n",
        "};"
      ],
      "metadata": {
        "id": "niT6jQkmBvpq",
        "colab": {
          "base_uri": "https://localhost:8080/"
        },
        "outputId": "0143d60d-b204-44d5-83e7-4838134dcd66"
      },
      "execution_count": null,
      "outputs": [
        {
          "output_type": "stream",
          "name": "stdout",
          "text": [
            "Overwriting Biblioteca.hpp\n"
          ]
        }
      ]
    },
    {
      "cell_type": "code",
      "source": [
        "%%writefile Ejemplo.cpp\n",
        "\n",
        "#include\"Biblioteca.hpp\"\n",
        "\n",
        "int main()\n",
        "{\n",
        "    Arreglo<int>*arrEnteros=new Arreglo<int>();\n",
        "    Arreglo<float>*arrDecimales=new Arreglo<float>();\n",
        " \n",
        "    for(size_t i=0;i<10;i++)\n",
        "    {\n",
        "        arrEnteros->insertar(i*10);\n",
        "        arrDecimales->insertar(i*1.123);\n",
        "    }\n",
        "  \n",
        "    arrEnteros->listar();\n",
        "    cout<<\"\\n\";\n",
        "    arrDecimales->listar();\n",
        " \n",
        "    return 0;\n",
        " \n",
        "}"
      ],
      "metadata": {
        "id": "aY8atNJZE9eu",
        "colab": {
          "base_uri": "https://localhost:8080/"
        },
        "outputId": "d9b6a415-ba99-4ca4-e180-fa75beb5803b"
      },
      "execution_count": null,
      "outputs": [
        {
          "output_type": "stream",
          "name": "stdout",
          "text": [
            "Overwriting Ejemplo.cpp\n"
          ]
        }
      ]
    },
    {
      "cell_type": "code",
      "source": [
        "!g++  Ejemplo.cpp && ./a.out"
      ],
      "metadata": {
        "colab": {
          "base_uri": "https://localhost:8080/"
        },
        "id": "vqVSFXvyLiH_",
        "outputId": "468d6d38-ce09-4ccc-b3f7-8118e4f7be92"
      },
      "execution_count": null,
      "outputs": [
        {
          "output_type": "stream",
          "name": "stdout",
          "text": [
            "0->0\n",
            "1->10\n",
            "2->20\n",
            "3->30\n",
            "4->40\n",
            "5->50\n",
            "6->60\n",
            "7->70\n",
            "8->80\n",
            "9->90\n",
            "\n",
            "0->0\n",
            "1->1.123\n",
            "2->2.246\n",
            "3->3.369\n",
            "4->4.492\n",
            "5->5.615\n",
            "6->6.738\n",
            "7->7.861\n",
            "8->8.984\n",
            "9->10.107\n"
          ]
        }
      ]
    },
    {
      "cell_type": "markdown",
      "source": [
        "#Tarea 01 - Templates\n"
      ],
      "metadata": {
        "id": "jYJ4RYTWY5TD"
      }
    },
    {
      "cell_type": "code",
      "source": [
        "%%writefile Biblioteca.hpp\n",
        "\n",
        "#include<iostream>\n",
        "\n",
        "using std::cout;\n",
        "using std::cin;\n",
        "\n",
        "template <typename Generico> //definir la funcion como template\n",
        "class Arreglo\n",
        "{\n",
        "    Generico* a;\n",
        "    size_t n;\n",
        " \n",
        " public:\n",
        "    Arreglo(){a=new Generico[10];n=0;}\n",
        "    Arreglo(Generico* _a, size_t _n){a=_a;n=_n;}\n",
        " \n",
        "    void insertar(Generico g)\n",
        "    {\n",
        "        if(n<10)\n",
        "        {\n",
        "            a[n++]=g;\n",
        "        }\n",
        "    }\n",
        " \n",
        "    void listar()\n",
        "    {\n",
        "        for(size_t i=0; i<n; i++)\n",
        "        {\n",
        "            cout<<i<<\"->\"<<a[i]<<\"\\n\";\n",
        "        }\n",
        "    }\n",
        " \n",
        "    void mayor()\n",
        "    {\n",
        "        Generico _mayor=a[0], _pos=-1;\n",
        "     \n",
        "        for(size_t i=1;i<n;i++)\n",
        "        {\n",
        "            if(a[i]>_mayor)\n",
        "            {\n",
        "                _mayor=a[i]; //actualizo el mayor\n",
        "                _pos=i;\n",
        "            }\n",
        "        }\n",
        "     \n",
        "        cout<<\"El mayor valor del arreglo es \"<<_mayor<<\" y se encuentra en la posicion \"<<_pos<<\"\\n\";\n",
        "    }\n",
        " \n",
        "    void ordenar()\n",
        "    {\n",
        "        for(size_t i=0;i<n-1;++i)\n",
        "        {\n",
        "            for(size_t j=i+1;j<n;++j)\n",
        "            {\n",
        "                if(a[i]>a[j])\n",
        "                {\n",
        "                    Generico aux=a[i];\n",
        "                    a[i]=a[j];\n",
        "                    a[j]=aux;\n",
        "                }\n",
        "            }\n",
        "        }\n",
        "    }\n",
        " \n",
        "    void mayorPromedio()\n",
        "    {\n",
        "        float prom=0.0f;    \n",
        "     \n",
        "        //obteniendo el promedio\n",
        "     \n",
        "        for(size_t i=0;i<n-1;++i)\n",
        "        {\n",
        "            prom+=a[i];\n",
        "            prom/=n;\n",
        "        }\n",
        "     \n",
        "        //listar el mayor promedio\n",
        "     \n",
        "        for(size_t i=0;i<n-1;i++)\n",
        "        {\n",
        "            if(a[i]>prom)\n",
        "            {\n",
        "                cout<<i<<\"->\"<<a[i]<<\"\\n\";\n",
        "            }\n",
        "        }\n",
        "    }\n",
        "};"
      ],
      "metadata": {
        "colab": {
          "base_uri": "https://localhost:8080/"
        },
        "id": "brVMtxTeNBAv",
        "outputId": "3b77f7c3-7923-48df-f715-4690d3c9b9ce"
      },
      "execution_count": 64,
      "outputs": [
        {
          "output_type": "stream",
          "name": "stdout",
          "text": [
            "Overwriting Biblioteca.hpp\n"
          ]
        }
      ]
    },
    {
      "cell_type": "code",
      "source": [
        "%%writefile Ejemplo.cpp\n",
        "\n",
        "#include\"Biblioteca.hpp\"\n",
        "#include<ctime>\n",
        "\n",
        "int main()\n",
        "{\n",
        "    Arreglo<int>*arrEnteros=new Arreglo<int>();\n",
        "    Arreglo<float>*arrDecimales=new Arreglo<float>();\n",
        " \n",
        "    srand(time(0));\n",
        " \n",
        "    for(size_t i=0;i<10;i++)\n",
        "    {\n",
        "        arrEnteros->insertar(rand()%50+1);\n",
        "        arrDecimales->insertar(rand()%50*1.123);\n",
        "    }\n",
        "  \n",
        "    arrEnteros->listar();\n",
        "    cout<<\"\\n\";\n",
        "    arrEnteros->mayor();\n",
        "    cout<<\"\\n\";\n",
        "    arrEnteros->ordenar();\n",
        "    cout<<\"\\n\";\n",
        "    arrEnteros->listar();\n",
        "    cout<<\"\\n\";\n",
        "    arrEnteros->mayorPromedio();\n",
        "    cout<<\"\\n\";\n",
        "    cout<<\"------------------------------------------------------------------\";\n",
        "    cout<<\"\\n\";\n",
        "    cout<<\"------------------------------------------------------------------\";\n",
        "    cout<<\"\\n\";\n",
        "    cout<<\"------------------------------------------------------------------\";\n",
        "    cout<<\"\\n\";\n",
        "    cout<<\"\\n\";\n",
        "    arrDecimales->listar();\n",
        "    cout<<\"\\n\";\n",
        "    arrDecimales->mayor();\n",
        "    cout<<\"\\n\";\n",
        "    arrDecimales->ordenar();\n",
        "    cout<<\"\\n\";\n",
        "    arrDecimales->listar();\n",
        "    cout<<\"\\n\";\n",
        "    arrDecimales->mayorPromedio();\n",
        " \n",
        "    return 0;\n",
        "}"
      ],
      "metadata": {
        "colab": {
          "base_uri": "https://localhost:8080/"
        },
        "id": "ozR1oICHaaNL",
        "outputId": "d7c7a0d4-0c1b-4843-aef8-cfd26263eef0"
      },
      "execution_count": 67,
      "outputs": [
        {
          "output_type": "stream",
          "name": "stdout",
          "text": [
            "Overwriting Ejemplo.cpp\n"
          ]
        }
      ]
    },
    {
      "cell_type": "code",
      "source": [
        "!g++  Ejemplo.cpp && ./a.out"
      ],
      "metadata": {
        "colab": {
          "base_uri": "https://localhost:8080/"
        },
        "id": "y4CLfOw7aqpB",
        "outputId": "75420bd7-e163-4b40-f095-d6e35cc06185"
      },
      "execution_count": 68,
      "outputs": [
        {
          "output_type": "stream",
          "name": "stdout",
          "text": [
            "0->5\n",
            "1->20\n",
            "2->33\n",
            "3->36\n",
            "4->32\n",
            "5->7\n",
            "6->24\n",
            "7->41\n",
            "8->40\n",
            "9->5\n",
            "\n",
            "El mayor valor del arreglo es 41 y se encuentra en la posicion 7\n",
            "\n",
            "\n",
            "0->5\n",
            "1->5\n",
            "2->7\n",
            "3->20\n",
            "4->24\n",
            "5->32\n",
            "6->33\n",
            "7->36\n",
            "8->40\n",
            "9->41\n",
            "\n",
            "0->5\n",
            "1->5\n",
            "2->7\n",
            "3->20\n",
            "4->24\n",
            "5->32\n",
            "6->33\n",
            "7->36\n",
            "8->40\n",
            "\n",
            "------------------------------------------------------------------\n",
            "------------------------------------------------------------------\n",
            "------------------------------------------------------------------\n",
            "\n",
            "0->29.198\n",
            "1->1.123\n",
            "2->21.337\n",
            "3->0\n",
            "4->28.075\n",
            "5->25.829\n",
            "6->46.043\n",
            "7->43.797\n",
            "8->14.599\n",
            "9->35.936\n",
            "\n",
            "El mayor valor del arreglo es 46.043 y se encuentra en la posicion 6\n",
            "\n",
            "\n",
            "0->0\n",
            "1->1.123\n",
            "2->14.599\n",
            "3->21.337\n",
            "4->25.829\n",
            "5->28.075\n",
            "6->29.198\n",
            "7->35.936\n",
            "8->43.797\n",
            "9->46.043\n",
            "\n",
            "2->14.599\n",
            "3->21.337\n",
            "4->25.829\n",
            "5->28.075\n",
            "6->29.198\n",
            "7->35.936\n",
            "8->43.797\n"
          ]
        }
      ]
    }
  ]
}